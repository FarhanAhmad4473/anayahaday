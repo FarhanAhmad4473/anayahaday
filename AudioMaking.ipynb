{
 "cells": [
  {
   "cell_type": "markdown",
   "metadata": {},
   "source": [
    "## Imports"
   ]
  },
  {
   "cell_type": "code",
   "execution_count": 6,
   "metadata": {},
   "outputs": [],
   "source": [
    "import numpy as np\n",
    "import librosa\n",
    "import librosa.display as lbd\n",
    "import pydub\n",
    "import os"
   ]
  },
  {
   "cell_type": "markdown",
   "metadata": {},
   "source": [
    "## Set Directories"
   ]
  },
  {
   "cell_type": "code",
   "execution_count": 8,
   "metadata": {},
   "outputs": [],
   "source": [
    "#inputs\n",
    "main_bayan = \"Edited_25-108-Bayan-ul-Quran.mp3\"\n",
    "recitation_dir = \"./recitations/\"\n",
    "timestamps_file = \"./Time Stamps 25 - 108.txt\"\n",
    "\n",
    "#outputs\n",
    "bayans_dir = './Bayans/'\n",
    "bayan_plus_recitation_dir = './RB/'"
   ]
  },
  {
   "cell_type": "markdown",
   "metadata": {},
   "source": [
    "### Function for Auto"
   ]
  },
  {
   "cell_type": "code",
   "execution_count": 9,
   "metadata": {},
   "outputs": [],
   "source": [
    "def hr_min_sec_to_samples(hr, min, sec, msec, sr=44100):\n",
    "    return int((hr*3600+min*60+sec+msec/1000)*sr)\n",
    "\n",
    "def generate_audios(ayah_number, start_time, end_time, y_bayan, sr_bayan):\n",
    "    \n",
    "    print(\"\\n\\n================================================\")\n",
    "    print(\"Ayah Number: \", ayah_number)\n",
    "    \n",
    "    start_hr, start_min, start_sec, start_milli = start_time\n",
    "    end_hr, end_min, end_sec, end_milli = end_time\n",
    "    \n",
    "    y_recitation, sr_recitation = librosa.load(recitation_dir+ayah_number+\".mp3\", sr = 44100, mono=False)\n",
    "\n",
    "    ## Extract bayaan\n",
    "    y_bayan_ext = y_bayan[:, hr_min_sec_to_samples(start_hr,start_min,start_sec,start_milli,sr_bayan):hr_min_sec_to_samples(end_hr,end_min,end_sec,end_milli,sr_bayan)].copy(order='F')\n",
    "\n",
    "    print(\"Duration of Bayan: \", librosa.get_duration(y_bayan_ext, sr = sr_bayan)/60, \"minutes\")\n",
    "    print(\"Duration of Recitation: \", librosa.get_duration(y_recitation, sr = sr_recitation), \"sec\")\n",
    "\n",
    "    ## Save Bayan \n",
    "    librosa.output.write_wav('./'+ayah_number+'_Bayan.wav', y_bayan_ext, sr_bayan)\n",
    "    pydub.AudioSegment.from_wav('./'+ayah_number+'_Bayan.wav').export(bayans_dir+ayah_number+'_Bayan.mp3', format='mp3', bitrate=\"192k\")\n",
    "    os.remove('./'+ayah_number+'_Bayan.wav')\n",
    "    \n",
    "    ## combine them\n",
    "    y_combined = np.concatenate([y_recitation,y_bayan_ext],axis=1)\n",
    "    sr_combined = 44100\n",
    "    \n",
    "    ## Max Normalize\n",
    "    y_combined /= np.max(np.abs(y_combined), axis=1).reshape(-1,1) #Normalize (0-1)\n",
    "    \n",
    "    ## Hard limit at 0.50\n",
    "    np.clip(y_combined,-0.50,0.50,y_combined)\n",
    "\n",
    "    ## Max Normalize\n",
    "    y_combined /= np.max(np.abs(y_combined), axis=1).reshape(-1,1) #Normalize (0-1)\n",
    "    \n",
    "    ## Save Bayan + Recitation\n",
    "    librosa.output.write_wav('./'+ayah_number+'_RB.wav', y_combined, sr_combined)\n",
    "    pydub.AudioSegment.from_wav('./'+ayah_number+'_RB.wav').export(bayan_plus_recitation_dir+ayah_number+'_RB.mp3', format='mp3', bitrate=\"192k\")\n",
    "    os.remove('./'+ayah_number+'_RB.wav')\n",
    "    \n",
    "def generate_tamheed(tamheed_name, start_time, end_time, y_bayan, sr_bayan):\n",
    "    \n",
    "    print(\"\\n\\n================================================\")\n",
    "    print(\"Tamheed Name: \", tamheed_name)\n",
    "    \n",
    "    start_hr, start_min, start_sec, start_milli = start_time\n",
    "    end_hr, end_min, end_sec, end_milli = end_time\n",
    "\n",
    "    ## Extract tamheed\n",
    "    y_bayan_ext = y_bayan[:, hr_min_sec_to_samples(start_hr,start_min,start_sec,start_milli,sr_bayan):hr_min_sec_to_samples(end_hr,end_min,end_sec,end_milli,sr_bayan)].copy(order='F')\n",
    "\n",
    "    print(\"Duration of Tamheed: \", librosa.get_duration(y_bayan_ext, sr = sr_bayan)/60, \"minutes\")\n",
    "\n",
    "    ## Max Normalize\n",
    "    y_bayan_ext /= np.max(np.abs(y_bayan_ext), axis=1).reshape(-1,1) #Normalize (0-1)\n",
    "\n",
    "    ## Hard limit at 0.50\n",
    "    np.clip(y_bayan_ext,-0.50,0.50,y_bayan_ext)\n",
    "    \n",
    "    ## Max Normalize again\n",
    "    y_bayan_ext /= np.max(np.abs(y_bayan_ext), axis=1).reshape(-1,1) #Normalize (0-1)\n",
    "    \n",
    "    ## Save Tamheed\n",
    "    librosa.output.write_wav('./'+tamheed_name+'_Bayan.wav', y_bayan_ext, sr_bayan)\n",
    "    pydub.AudioSegment.from_wav('./'+tamheed_name+'_Bayan.wav').export(bayans_dir+tamheed_name+'_Bayan.mp3', format='mp3', bitrate=\"192k\")\n",
    "    os.remove('./'+tamheed_name+'_Bayan.wav')"
   ]
  },
  {
   "cell_type": "markdown",
   "metadata": {},
   "source": [
    "### Automatic Timestamps Reading"
   ]
  },
  {
   "cell_type": "code",
   "execution_count": 10,
   "metadata": {},
   "outputs": [],
   "source": [
    "with open(timestamps_file) as f:\n",
    "    timeStamps = [line.strip().split() for line in f.readlines() if line.strip()]\n",
    "    \n",
    "ayah_numbers = [t[0] for t in timeStamps]\n",
    "start_times = [[int(string) for string in line[1].split(':')] for line in timeStamps]\n",
    "end_times = [[int(string) for string in line[2].split(':')] for line in timeStamps]"
   ]
  },
  {
   "cell_type": "markdown",
   "metadata": {},
   "source": [
    "## Looping over all"
   ]
  },
  {
   "cell_type": "code",
   "execution_count": 11,
   "metadata": {},
   "outputs": [],
   "source": [
    "#Load the main bayan\n",
    "y_bayan, sr_bayan = librosa.load(main_bayan, sr = 44100, mono=False)"
   ]
  },
  {
   "cell_type": "code",
   "execution_count": 12,
   "metadata": {
    "scrolled": false
   },
   "outputs": [
    {
     "name": "stdout",
     "output_type": "stream",
     "text": [
      "\n",
      "\n",
      "================================================\n",
      "Ayah Number:  004142\n",
      "Duration of Bayan:  5.282333333333333 minutes\n",
      "Duration of Recitation:  25.30825396825397 sec\n",
      "\n",
      "\n",
      "================================================\n",
      "Ayah Number:  004143\n",
      "Duration of Bayan:  1.074 minutes\n",
      "Duration of Recitation:  23.729160997732425 sec\n",
      "\n",
      "\n",
      "================================================\n",
      "Ayah Number:  004144\n",
      "Duration of Bayan:  0.7866999244142101 minutes\n",
      "Duration of Recitation:  24.71077097505669 sec\n",
      "\n",
      "\n",
      "================================================\n",
      "Ayah Number:  004145\n",
      "Duration of Bayan:  0.6515000000000001 minutes\n",
      "Duration of Recitation:  11.224399092970522 sec\n",
      "\n",
      "\n",
      "================================================\n",
      "Ayah Number:  004146\n",
      "Duration of Bayan:  2.38519992441421 minutes\n",
      "Duration of Recitation:  25.09487528344671 sec\n",
      "\n",
      "\n",
      "================================================\n",
      "Ayah Number:  004147\n",
      "Duration of Bayan:  1.0926500377928952 minutes\n",
      "Duration of Recitation:  14.425283446712019 sec\n",
      "\n",
      "\n",
      "================================================\n",
      "Ayah Number:  004148\n",
      "Duration of Bayan:  1.7500332577475435 minutes\n",
      "Duration of Recitation:  12.718140589569161 sec\n",
      "\n",
      "\n",
      "================================================\n",
      "Ayah Number:  004149\n",
      "Duration of Bayan:  1.0961334089191233 minutes\n",
      "Duration of Recitation:  14.51063492063492 sec\n",
      "\n",
      "\n",
      "================================================\n",
      "Ayah Number:  004150\n",
      "Duration of Bayan:  2.3133333333333335 minutes\n",
      "Duration of Recitation:  28.594489795918367 sec\n",
      "\n",
      "\n",
      "================================================\n",
      "Ayah Number:  004151\n",
      "Duration of Bayan:  0.3605 minutes\n",
      "Duration of Recitation:  11.139047619047618 sec\n",
      "\n",
      "\n",
      "================================================\n",
      "Ayah Number:  004152\n",
      "Duration of Bayan:  0.838283446712018 minutes\n",
      "Duration of Recitation:  20.656326530612244 sec\n",
      "\n",
      "\n",
      "================================================\n",
      "Ayah Number:  004153\n",
      "Duration of Bayan:  1.4236999244142103 minutes\n",
      "Duration of Recitation:  43.36120181405896 sec\n",
      "\n",
      "\n",
      "================================================\n",
      "Ayah Number:  004154\n",
      "Duration of Bayan:  0.5973167044595616 minutes\n",
      "Duration of Recitation:  22.064716553287983 sec\n",
      "\n",
      "\n",
      "================================================\n",
      "Ayah Number:  004155\n",
      "Duration of Bayan:  1.0031334089191233 minutes\n",
      "Duration of Recitation:  30.557687074829932 sec\n",
      "\n",
      "\n",
      "================================================\n",
      "Ayah Number:  004156\n",
      "Duration of Bayan:  1.019849962207105 minutes\n",
      "Duration of Recitation:  6.785850340136054 sec\n",
      "\n",
      "\n",
      "================================================\n",
      "Ayah Number:  004157\n",
      "Duration of Bayan:  1.8835332577475434 minutes\n",
      "Duration of Recitation:  33.9292970521542 sec\n",
      "\n",
      "\n",
      "================================================\n",
      "Ayah Number:  004158\n",
      "Duration of Bayan:  0.34969992441421016 minutes\n",
      "Duration of Recitation:  8.663696145124717 sec\n",
      "\n",
      "\n",
      "================================================\n",
      "Ayah Number:  004159\n",
      "Duration of Bayan:  0.747150037792895 minutes\n",
      "Duration of Recitation:  13.400997732426303 sec\n",
      "\n",
      "\n",
      "================================================\n",
      "Ayah Number:  004160\n",
      "Duration of Bayan:  0.9761334089191233 minutes\n",
      "Duration of Recitation:  16.303129251700682 sec\n",
      "\n",
      "\n",
      "================================================\n",
      "Ayah Number:  004161\n",
      "Duration of Bayan:  0.9595 minutes\n",
      "Duration of Recitation:  15.364195011337868 sec\n",
      "\n",
      "\n",
      "================================================\n",
      "Ayah Number:  004162\n",
      "Duration of Bayan:  1.4818998488284203 minutes\n",
      "Duration of Recitation:  35.08160997732426 sec\n",
      "Wall time: 2min 3s\n"
     ]
    }
   ],
   "source": [
    "%%time\n",
    "#Loop over all the ayahs\n",
    "for ayah_number, start_time, end_time in zip(ayah_numbers, start_times, end_times):\n",
    "    try:\n",
    "        int(ayah_number)\n",
    "        generate_audios(ayah_number, start_time, end_time, y_bayan, sr_bayan)\n",
    "    except ValueError:\n",
    "        generate_tamheed(ayah_number, start_time, end_time, y_bayan, sr_bayan)"
   ]
  },
  {
   "cell_type": "code",
   "execution_count": null,
   "metadata": {},
   "outputs": [],
   "source": []
  },
  {
   "cell_type": "code",
   "execution_count": 13,
   "metadata": {},
   "outputs": [
    {
     "name": "stdout",
     "output_type": "stream",
     "text": [
      "0.6.0\n"
     ]
    }
   ],
   "source": [
    "print(librosa.__version__)"
   ]
  },
  {
   "cell_type": "code",
   "execution_count": null,
   "metadata": {},
   "outputs": [],
   "source": []
  }
 ],
 "metadata": {
  "kernelspec": {
   "display_name": "Python 3",
   "language": "python",
   "name": "python3"
  },
  "language_info": {
   "codemirror_mode": {
    "name": "ipython",
    "version": 3
   },
   "file_extension": ".py",
   "mimetype": "text/x-python",
   "name": "python",
   "nbconvert_exporter": "python",
   "pygments_lexer": "ipython3",
   "version": "3.8.3"
  }
 },
 "nbformat": 4,
 "nbformat_minor": 2
}
