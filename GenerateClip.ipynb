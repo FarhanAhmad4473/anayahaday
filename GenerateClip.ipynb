{
 "cells": [
  {
   "cell_type": "code",
   "execution_count": 1,
   "metadata": {},
   "outputs": [
    {
     "name": "stdout",
     "output_type": "stream",
     "text": [
      "Total Image Files: 21\n",
      "Total Audio Files: 21\n",
      "['004142.jpg', '004143.jpg', '004144.jpg', '004145.jpg', '004146.jpg', '004147.jpg', '004148.jpg', '004149.jpg', '004150.jpg', '004151.jpg', '004152.jpg', '004153.jpg', '004154.jpg', '004155.jpg', '004156.jpg', '004157.jpg', '004158.jpg', '004159.jpg', '004160.jpg', '004161.jpg', '004162.jpg']\n",
      "['004142_RB.mp3', '004143_RB.mp3', '004144_RB.mp3', '004145_RB.mp3', '004146_RB.mp3', '004147_RB.mp3', '004148_RB.mp3', '004149_RB.mp3', '004150_RB.mp3', '004151_RB.mp3', '004152_RB.mp3', '004153_RB.mp3', '004154_RB.mp3', '004155_RB.mp3', '004156_RB.mp3', '004157_RB.mp3', '004158_RB.mp3', '004159_RB.mp3', '004160_RB.mp3', '004161_RB.mp3', '004162_RB.mp3']\n"
     ]
    },
    {
     "name": "stderr",
     "output_type": "stream",
     "text": [
      "\r",
      "chunk:   0%|                                                                        | 0/7548 [00:00<?, ?it/s, now=None]"
     ]
    },
    {
     "name": "stdout",
     "output_type": "stream",
     "text": [
      "Moviepy - Building video C:\\Users\\lenovo\\Desktop\\Coding\\An Ayah a Day\\qlipy\\ayah-script/ayah_videos/004142_RB.mp4.\n",
      "MoviePy - Writing audio in 004142_RBTEMP_MPY_wvf_snd.mp4\n"
     ]
    },
    {
     "name": "stderr",
     "output_type": "stream",
     "text": [
      "t:   0%|                                                                            | 0/6846 [00:00<?, ?it/s, now=None]"
     ]
    },
    {
     "name": "stdout",
     "output_type": "stream",
     "text": [
      "MoviePy - Done.\n",
      "Moviepy - Writing video C:\\Users\\lenovo\\Desktop\\Coding\\An Ayah a Day\\qlipy\\ayah-script/ayah_videos/004142_RB.mp4\n",
      "\n"
     ]
    },
    {
     "name": "stderr",
     "output_type": "stream",
     "text": [
      "                                                                                                                       \r"
     ]
    },
    {
     "name": "stdout",
     "output_type": "stream",
     "text": [
      "Moviepy - Done !\n",
      "Moviepy - video ready C:\\Users\\lenovo\\Desktop\\Coding\\An Ayah a Day\\qlipy\\ayah-script/ayah_videos/004142_RB.mp4\n"
     ]
    },
    {
     "name": "stderr",
     "output_type": "stream",
     "text": [
      "\r",
      "chunk:   0%|                                                                        | 0/1946 [00:00<?, ?it/s, now=None]"
     ]
    },
    {
     "name": "stdout",
     "output_type": "stream",
     "text": [
      "Moviepy - Building video C:\\Users\\lenovo\\Desktop\\Coding\\An Ayah a Day\\qlipy\\ayah-script/ayah_videos/004143_RB.mp4.\n",
      "MoviePy - Writing audio in 004143_RBTEMP_MPY_wvf_snd.mp4\n"
     ]
    },
    {
     "name": "stderr",
     "output_type": "stream",
     "text": [
      "t:   0%|                                                                            | 0/1765 [00:00<?, ?it/s, now=None]"
     ]
    },
    {
     "name": "stdout",
     "output_type": "stream",
     "text": [
      "MoviePy - Done.\n",
      "Moviepy - Writing video C:\\Users\\lenovo\\Desktop\\Coding\\An Ayah a Day\\qlipy\\ayah-script/ayah_videos/004143_RB.mp4\n",
      "\n"
     ]
    },
    {
     "name": "stderr",
     "output_type": "stream",
     "text": [
      "                                                                                                                       \r"
     ]
    },
    {
     "name": "stdout",
     "output_type": "stream",
     "text": [
      "Moviepy - Done !\n",
      "Moviepy - video ready C:\\Users\\lenovo\\Desktop\\Coding\\An Ayah a Day\\qlipy\\ayah-script/ayah_videos/004143_RB.mp4\n"
     ]
    },
    {
     "name": "stderr",
     "output_type": "stream",
     "text": [
      "\r",
      "chunk:   0%|                                                                        | 0/1587 [00:00<?, ?it/s, now=None]"
     ]
    },
    {
     "name": "stdout",
     "output_type": "stream",
     "text": [
      "Moviepy - Building video C:\\Users\\lenovo\\Desktop\\Coding\\An Ayah a Day\\qlipy\\ayah-script/ayah_videos/004144_RB.mp4.\n",
      "MoviePy - Writing audio in 004144_RBTEMP_MPY_wvf_snd.mp4\n"
     ]
    },
    {
     "name": "stderr",
     "output_type": "stream",
     "text": [
      "t:   0%|                                                                            | 0/1439 [00:00<?, ?it/s, now=None]"
     ]
    },
    {
     "name": "stdout",
     "output_type": "stream",
     "text": [
      "MoviePy - Done.\n",
      "Moviepy - Writing video C:\\Users\\lenovo\\Desktop\\Coding\\An Ayah a Day\\qlipy\\ayah-script/ayah_videos/004144_RB.mp4\n",
      "\n"
     ]
    },
    {
     "name": "stderr",
     "output_type": "stream",
     "text": [
      "                                                                                                                       \r"
     ]
    },
    {
     "name": "stdout",
     "output_type": "stream",
     "text": [
      "Moviepy - Done !\n",
      "Moviepy - video ready C:\\Users\\lenovo\\Desktop\\Coding\\An Ayah a Day\\qlipy\\ayah-script/ayah_videos/004144_RB.mp4\n"
     ]
    },
    {
     "name": "stderr",
     "output_type": "stream",
     "text": [
      "\r",
      "chunk:   0%|                                                                        | 0/1111 [00:00<?, ?it/s, now=None]"
     ]
    },
    {
     "name": "stdout",
     "output_type": "stream",
     "text": [
      "Moviepy - Building video C:\\Users\\lenovo\\Desktop\\Coding\\An Ayah a Day\\qlipy\\ayah-script/ayah_videos/004145_RB.mp4.\n",
      "MoviePy - Writing audio in 004145_RBTEMP_MPY_wvf_snd.mp4\n"
     ]
    },
    {
     "name": "stderr",
     "output_type": "stream",
     "text": [
      "t:   0%|                                                                            | 0/1008 [00:00<?, ?it/s, now=None]"
     ]
    },
    {
     "name": "stdout",
     "output_type": "stream",
     "text": [
      "MoviePy - Done.\n",
      "Moviepy - Writing video C:\\Users\\lenovo\\Desktop\\Coding\\An Ayah a Day\\qlipy\\ayah-script/ayah_videos/004145_RB.mp4\n",
      "\n"
     ]
    },
    {
     "name": "stderr",
     "output_type": "stream",
     "text": [
      "                                                                                                                       \r"
     ]
    },
    {
     "name": "stdout",
     "output_type": "stream",
     "text": [
      "Moviepy - Done !\n",
      "Moviepy - video ready C:\\Users\\lenovo\\Desktop\\Coding\\An Ayah a Day\\qlipy\\ayah-script/ayah_videos/004145_RB.mp4\n"
     ]
    },
    {
     "name": "stderr",
     "output_type": "stream",
     "text": [
      "\r",
      "chunk:   0%|                                                                        | 0/3710 [00:00<?, ?it/s, now=None]"
     ]
    },
    {
     "name": "stdout",
     "output_type": "stream",
     "text": [
      "Moviepy - Building video C:\\Users\\lenovo\\Desktop\\Coding\\An Ayah a Day\\qlipy\\ayah-script/ayah_videos/004146_RB.mp4.\n",
      "MoviePy - Writing audio in 004146_RBTEMP_MPY_wvf_snd.mp4\n"
     ]
    },
    {
     "name": "stderr",
     "output_type": "stream",
     "text": [
      "t:   0%|                                                                            | 0/3365 [00:00<?, ?it/s, now=None]"
     ]
    },
    {
     "name": "stdout",
     "output_type": "stream",
     "text": [
      "MoviePy - Done.\n",
      "Moviepy - Writing video C:\\Users\\lenovo\\Desktop\\Coding\\An Ayah a Day\\qlipy\\ayah-script/ayah_videos/004146_RB.mp4\n",
      "\n"
     ]
    },
    {
     "name": "stderr",
     "output_type": "stream",
     "text": [
      "                                                                                                                       \r"
     ]
    },
    {
     "name": "stdout",
     "output_type": "stream",
     "text": [
      "Moviepy - Done !\n",
      "Moviepy - video ready C:\\Users\\lenovo\\Desktop\\Coding\\An Ayah a Day\\qlipy\\ayah-script/ayah_videos/004146_RB.mp4\n"
     ]
    },
    {
     "name": "stderr",
     "output_type": "stream",
     "text": [
      "\r",
      "chunk:   0%|                                                                        | 0/1765 [00:00<?, ?it/s, now=None]"
     ]
    },
    {
     "name": "stdout",
     "output_type": "stream",
     "text": [
      "Moviepy - Building video C:\\Users\\lenovo\\Desktop\\Coding\\An Ayah a Day\\qlipy\\ayah-script/ayah_videos/004147_RB.mp4.\n",
      "MoviePy - Writing audio in 004147_RBTEMP_MPY_wvf_snd.mp4\n"
     ]
    },
    {
     "name": "stderr",
     "output_type": "stream",
     "text": [
      "t:   0%|                                                                            | 0/1601 [00:00<?, ?it/s, now=None]"
     ]
    },
    {
     "name": "stdout",
     "output_type": "stream",
     "text": [
      "MoviePy - Done.\n",
      "Moviepy - Writing video C:\\Users\\lenovo\\Desktop\\Coding\\An Ayah a Day\\qlipy\\ayah-script/ayah_videos/004147_RB.mp4\n",
      "\n"
     ]
    },
    {
     "name": "stderr",
     "output_type": "stream",
     "text": [
      "                                                                                                                       \r"
     ]
    },
    {
     "name": "stdout",
     "output_type": "stream",
     "text": [
      "Moviepy - Done !\n",
      "Moviepy - video ready C:\\Users\\lenovo\\Desktop\\Coding\\An Ayah a Day\\qlipy\\ayah-script/ayah_videos/004147_RB.mp4\n"
     ]
    },
    {
     "name": "stderr",
     "output_type": "stream",
     "text": [
      "\r",
      "chunk:   0%|                                                                        | 0/2597 [00:00<?, ?it/s, now=None]"
     ]
    },
    {
     "name": "stdout",
     "output_type": "stream",
     "text": [
      "Moviepy - Building video C:\\Users\\lenovo\\Desktop\\Coding\\An Ayah a Day\\qlipy\\ayah-script/ayah_videos/004148_RB.mp4.\n",
      "MoviePy - Writing audio in 004148_RBTEMP_MPY_wvf_snd.mp4\n"
     ]
    },
    {
     "name": "stderr",
     "output_type": "stream",
     "text": [
      "t:   0%|                                                                            | 0/2356 [00:00<?, ?it/s, now=None]"
     ]
    },
    {
     "name": "stdout",
     "output_type": "stream",
     "text": [
      "MoviePy - Done.\n",
      "Moviepy - Writing video C:\\Users\\lenovo\\Desktop\\Coding\\An Ayah a Day\\qlipy\\ayah-script/ayah_videos/004148_RB.mp4\n",
      "\n"
     ]
    },
    {
     "name": "stderr",
     "output_type": "stream",
     "text": [
      "                                                                                                                       \r"
     ]
    },
    {
     "name": "stdout",
     "output_type": "stream",
     "text": [
      "Moviepy - Done !\n",
      "Moviepy - video ready C:\\Users\\lenovo\\Desktop\\Coding\\An Ayah a Day\\qlipy\\ayah-script/ayah_videos/004148_RB.mp4\n"
     ]
    },
    {
     "name": "stderr",
     "output_type": "stream",
     "text": [
      "\r",
      "chunk:   0%|                                                                        | 0/1772 [00:00<?, ?it/s, now=None]"
     ]
    },
    {
     "name": "stdout",
     "output_type": "stream",
     "text": [
      "Moviepy - Building video C:\\Users\\lenovo\\Desktop\\Coding\\An Ayah a Day\\qlipy\\ayah-script/ayah_videos/004149_RB.mp4.\n",
      "MoviePy - Writing audio in 004149_RBTEMP_MPY_wvf_snd.mp4\n"
     ]
    },
    {
     "name": "stderr",
     "output_type": "stream",
     "text": [
      "t:   0%|                                                                            | 0/1607 [00:00<?, ?it/s, now=None]"
     ]
    },
    {
     "name": "stdout",
     "output_type": "stream",
     "text": [
      "MoviePy - Done.\n",
      "Moviepy - Writing video C:\\Users\\lenovo\\Desktop\\Coding\\An Ayah a Day\\qlipy\\ayah-script/ayah_videos/004149_RB.mp4\n",
      "\n"
     ]
    },
    {
     "name": "stderr",
     "output_type": "stream",
     "text": [
      "                                                                                                                       \r"
     ]
    },
    {
     "name": "stdout",
     "output_type": "stream",
     "text": [
      "Moviepy - Done !\n",
      "Moviepy - video ready C:\\Users\\lenovo\\Desktop\\Coding\\An Ayah a Day\\qlipy\\ayah-script/ayah_videos/004149_RB.mp4\n"
     ]
    },
    {
     "name": "stderr",
     "output_type": "stream",
     "text": [
      "\r",
      "chunk:   0%|                                                                        | 0/3693 [00:00<?, ?it/s, now=None]"
     ]
    },
    {
     "name": "stdout",
     "output_type": "stream",
     "text": [
      "Moviepy - Building video C:\\Users\\lenovo\\Desktop\\Coding\\An Ayah a Day\\qlipy\\ayah-script/ayah_videos/004150_RB.mp4.\n",
      "MoviePy - Writing audio in 004150_RBTEMP_MPY_wvf_snd.mp4\n"
     ]
    },
    {
     "name": "stderr",
     "output_type": "stream",
     "text": [
      "t:   0%|                                                                            | 0/3349 [00:00<?, ?it/s, now=None]"
     ]
    },
    {
     "name": "stdout",
     "output_type": "stream",
     "text": [
      "MoviePy - Done.\n",
      "Moviepy - Writing video C:\\Users\\lenovo\\Desktop\\Coding\\An Ayah a Day\\qlipy\\ayah-script/ayah_videos/004150_RB.mp4\n",
      "\n"
     ]
    },
    {
     "name": "stderr",
     "output_type": "stream",
     "text": [
      "                                                                                                                       \r"
     ]
    },
    {
     "name": "stdout",
     "output_type": "stream",
     "text": [
      "Moviepy - Done !\n",
      "Moviepy - video ready C:\\Users\\lenovo\\Desktop\\Coding\\An Ayah a Day\\qlipy\\ayah-script/ayah_videos/004150_RB.mp4\n"
     ]
    },
    {
     "name": "stderr",
     "output_type": "stream",
     "text": [
      "\r",
      "chunk:   0%|                                                                         | 0/724 [00:00<?, ?it/s, now=None]"
     ]
    },
    {
     "name": "stdout",
     "output_type": "stream",
     "text": [
      "Moviepy - Building video C:\\Users\\lenovo\\Desktop\\Coding\\An Ayah a Day\\qlipy\\ayah-script/ayah_videos/004151_RB.mp4.\n",
      "MoviePy - Writing audio in 004151_RBTEMP_MPY_wvf_snd.mp4\n"
     ]
    },
    {
     "name": "stderr",
     "output_type": "stream",
     "text": [
      "t:   0%|                                                                             | 0/657 [00:00<?, ?it/s, now=None]"
     ]
    },
    {
     "name": "stdout",
     "output_type": "stream",
     "text": [
      "MoviePy - Done.\n",
      "Moviepy - Writing video C:\\Users\\lenovo\\Desktop\\Coding\\An Ayah a Day\\qlipy\\ayah-script/ayah_videos/004151_RB.mp4\n",
      "\n"
     ]
    },
    {
     "name": "stderr",
     "output_type": "stream",
     "text": [
      "                                                                                                                       \r"
     ]
    },
    {
     "name": "stdout",
     "output_type": "stream",
     "text": [
      "Moviepy - Done !\n",
      "Moviepy - video ready C:\\Users\\lenovo\\Desktop\\Coding\\An Ayah a Day\\qlipy\\ayah-script/ayah_videos/004151_RB.mp4\n"
     ]
    },
    {
     "name": "stderr",
     "output_type": "stream",
     "text": [
      "\r",
      "chunk:   0%|                                                                        | 0/1566 [00:00<?, ?it/s, now=None]"
     ]
    },
    {
     "name": "stdout",
     "output_type": "stream",
     "text": [
      "Moviepy - Building video C:\\Users\\lenovo\\Desktop\\Coding\\An Ayah a Day\\qlipy\\ayah-script/ayah_videos/004152_RB.mp4.\n",
      "MoviePy - Writing audio in 004152_RBTEMP_MPY_wvf_snd.mp4\n"
     ]
    },
    {
     "name": "stderr",
     "output_type": "stream",
     "text": [
      "t:   0%|                                                                            | 0/1420 [00:00<?, ?it/s, now=None]"
     ]
    },
    {
     "name": "stdout",
     "output_type": "stream",
     "text": [
      "MoviePy - Done.\n",
      "Moviepy - Writing video C:\\Users\\lenovo\\Desktop\\Coding\\An Ayah a Day\\qlipy\\ayah-script/ayah_videos/004152_RB.mp4\n",
      "\n"
     ]
    },
    {
     "name": "stderr",
     "output_type": "stream",
     "text": [
      "                                                                                                                       \r"
     ]
    },
    {
     "name": "stdout",
     "output_type": "stream",
     "text": [
      "Moviepy - Done !\n",
      "Moviepy - video ready C:\\Users\\lenovo\\Desktop\\Coding\\An Ayah a Day\\qlipy\\ayah-script/ayah_videos/004152_RB.mp4\n"
     ]
    },
    {
     "name": "stderr",
     "output_type": "stream",
     "text": [
      "\r",
      "chunk:   0%|                                                                        | 0/2841 [00:00<?, ?it/s, now=None]"
     ]
    },
    {
     "name": "stdout",
     "output_type": "stream",
     "text": [
      "Moviepy - Building video C:\\Users\\lenovo\\Desktop\\Coding\\An Ayah a Day\\qlipy\\ayah-script/ayah_videos/004153_RB.mp4.\n",
      "MoviePy - Writing audio in 004153_RBTEMP_MPY_wvf_snd.mp4\n"
     ]
    },
    {
     "name": "stderr",
     "output_type": "stream",
     "text": [
      "t:   0%|                                                                            | 0/2577 [00:00<?, ?it/s, now=None]"
     ]
    },
    {
     "name": "stdout",
     "output_type": "stream",
     "text": [
      "MoviePy - Done.\n",
      "Moviepy - Writing video C:\\Users\\lenovo\\Desktop\\Coding\\An Ayah a Day\\qlipy\\ayah-script/ayah_videos/004153_RB.mp4\n",
      "\n"
     ]
    },
    {
     "name": "stderr",
     "output_type": "stream",
     "text": [
      "                                                                                                                       \r"
     ]
    },
    {
     "name": "stdout",
     "output_type": "stream",
     "text": [
      "Moviepy - Done !\n",
      "Moviepy - video ready C:\\Users\\lenovo\\Desktop\\Coding\\An Ayah a Day\\qlipy\\ayah-script/ayah_videos/004153_RB.mp4\n"
     ]
    },
    {
     "name": "stderr",
     "output_type": "stream",
     "text": [
      "\r",
      "chunk:   0%|                                                                        | 0/1278 [00:00<?, ?it/s, now=None]"
     ]
    },
    {
     "name": "stdout",
     "output_type": "stream",
     "text": [
      "Moviepy - Building video C:\\Users\\lenovo\\Desktop\\Coding\\An Ayah a Day\\qlipy\\ayah-script/ayah_videos/004154_RB.mp4.\n",
      "MoviePy - Writing audio in 004154_RBTEMP_MPY_wvf_snd.mp4\n"
     ]
    },
    {
     "name": "stderr",
     "output_type": "stream",
     "text": [
      "t:   0%|                                                                            | 0/1159 [00:00<?, ?it/s, now=None]"
     ]
    },
    {
     "name": "stdout",
     "output_type": "stream",
     "text": [
      "MoviePy - Done.\n",
      "Moviepy - Writing video C:\\Users\\lenovo\\Desktop\\Coding\\An Ayah a Day\\qlipy\\ayah-script/ayah_videos/004154_RB.mp4\n",
      "\n"
     ]
    },
    {
     "name": "stderr",
     "output_type": "stream",
     "text": [
      "                                                                                                                       \r"
     ]
    },
    {
     "name": "stdout",
     "output_type": "stream",
     "text": [
      "Moviepy - Done !\n",
      "Moviepy - video ready C:\\Users\\lenovo\\Desktop\\Coding\\An Ayah a Day\\qlipy\\ayah-script/ayah_videos/004154_RB.mp4\n"
     ]
    },
    {
     "name": "stderr",
     "output_type": "stream",
     "text": [
      "\r",
      "chunk:   0%|                                                                        | 0/2002 [00:00<?, ?it/s, now=None]"
     ]
    },
    {
     "name": "stdout",
     "output_type": "stream",
     "text": [
      "Moviepy - Building video C:\\Users\\lenovo\\Desktop\\Coding\\An Ayah a Day\\qlipy\\ayah-script/ayah_videos/004155_RB.mp4.\n",
      "MoviePy - Writing audio in 004155_RBTEMP_MPY_wvf_snd.mp4\n"
     ]
    },
    {
     "name": "stderr",
     "output_type": "stream",
     "text": [
      "t:   0%|                                                                            | 0/1816 [00:00<?, ?it/s, now=None]"
     ]
    },
    {
     "name": "stdout",
     "output_type": "stream",
     "text": [
      "MoviePy - Done.\n",
      "Moviepy - Writing video C:\\Users\\lenovo\\Desktop\\Coding\\An Ayah a Day\\qlipy\\ayah-script/ayah_videos/004155_RB.mp4\n",
      "\n"
     ]
    },
    {
     "name": "stderr",
     "output_type": "stream",
     "text": [
      "                                                                                                                       \r"
     ]
    },
    {
     "name": "stdout",
     "output_type": "stream",
     "text": [
      "Moviepy - Done !\n",
      "Moviepy - video ready C:\\Users\\lenovo\\Desktop\\Coding\\An Ayah a Day\\qlipy\\ayah-script/ayah_videos/004155_RB.mp4\n"
     ]
    },
    {
     "name": "stderr",
     "output_type": "stream",
     "text": [
      "\r",
      "chunk:   0%|                                                                        | 0/1500 [00:00<?, ?it/s, now=None]"
     ]
    },
    {
     "name": "stdout",
     "output_type": "stream",
     "text": [
      "Moviepy - Building video C:\\Users\\lenovo\\Desktop\\Coding\\An Ayah a Day\\qlipy\\ayah-script/ayah_videos/004156_RB.mp4.\n",
      "MoviePy - Writing audio in 004156_RBTEMP_MPY_wvf_snd.mp4\n"
     ]
    },
    {
     "name": "stderr",
     "output_type": "stream",
     "text": [
      "t:   0%|                                                                            | 0/1361 [00:00<?, ?it/s, now=None]"
     ]
    },
    {
     "name": "stdout",
     "output_type": "stream",
     "text": [
      "MoviePy - Done.\n",
      "Moviepy - Writing video C:\\Users\\lenovo\\Desktop\\Coding\\An Ayah a Day\\qlipy\\ayah-script/ayah_videos/004156_RB.mp4\n",
      "\n"
     ]
    },
    {
     "name": "stderr",
     "output_type": "stream",
     "text": [
      "                                                                                                                       \r"
     ]
    },
    {
     "name": "stdout",
     "output_type": "stream",
     "text": [
      "Moviepy - Done !\n",
      "Moviepy - video ready C:\\Users\\lenovo\\Desktop\\Coding\\An Ayah a Day\\qlipy\\ayah-script/ayah_videos/004156_RB.mp4\n"
     ]
    },
    {
     "name": "stderr",
     "output_type": "stream",
     "text": [
      "\r",
      "chunk:   0%|                                                                        | 0/3242 [00:00<?, ?it/s, now=None]"
     ]
    },
    {
     "name": "stdout",
     "output_type": "stream",
     "text": [
      "Moviepy - Building video C:\\Users\\lenovo\\Desktop\\Coding\\An Ayah a Day\\qlipy\\ayah-script/ayah_videos/004157_RB.mp4.\n",
      "MoviePy - Writing audio in 004157_RBTEMP_MPY_wvf_snd.mp4\n"
     ]
    },
    {
     "name": "stderr",
     "output_type": "stream",
     "text": [
      "t:   0%|                                                                            | 0/2940 [00:00<?, ?it/s, now=None]"
     ]
    },
    {
     "name": "stdout",
     "output_type": "stream",
     "text": [
      "MoviePy - Done.\n",
      "Moviepy - Writing video C:\\Users\\lenovo\\Desktop\\Coding\\An Ayah a Day\\qlipy\\ayah-script/ayah_videos/004157_RB.mp4\n",
      "\n"
     ]
    },
    {
     "name": "stderr",
     "output_type": "stream",
     "text": [
      "                                                                                                                       \r"
     ]
    },
    {
     "name": "stdout",
     "output_type": "stream",
     "text": [
      "Moviepy - Done !\n",
      "Moviepy - video ready C:\\Users\\lenovo\\Desktop\\Coding\\An Ayah a Day\\qlipy\\ayah-script/ayah_videos/004157_RB.mp4\n"
     ]
    },
    {
     "name": "stderr",
     "output_type": "stream",
     "text": [
      "\r",
      "chunk:   0%|                                                                         | 0/655 [00:00<?, ?it/s, now=None]"
     ]
    },
    {
     "name": "stdout",
     "output_type": "stream",
     "text": [
      "Moviepy - Building video C:\\Users\\lenovo\\Desktop\\Coding\\An Ayah a Day\\qlipy\\ayah-script/ayah_videos/004158_RB.mp4.\n",
      "MoviePy - Writing audio in 004158_RBTEMP_MPY_wvf_snd.mp4\n"
     ]
    },
    {
     "name": "stderr",
     "output_type": "stream",
     "text": [
      "t:   0%|                                                                             | 0/594 [00:00<?, ?it/s, now=None]"
     ]
    },
    {
     "name": "stdout",
     "output_type": "stream",
     "text": [
      "MoviePy - Done.\n",
      "Moviepy - Writing video C:\\Users\\lenovo\\Desktop\\Coding\\An Ayah a Day\\qlipy\\ayah-script/ayah_videos/004158_RB.mp4\n",
      "\n"
     ]
    },
    {
     "name": "stderr",
     "output_type": "stream",
     "text": [
      "                                                                                                                       \r"
     ]
    },
    {
     "name": "stdout",
     "output_type": "stream",
     "text": [
      "Moviepy - Done !\n",
      "Moviepy - video ready C:\\Users\\lenovo\\Desktop\\Coding\\An Ayah a Day\\qlipy\\ayah-script/ayah_videos/004158_RB.mp4\n"
     ]
    },
    {
     "name": "stderr",
     "output_type": "stream",
     "text": [
      "\r",
      "chunk:   0%|                                                                        | 0/1286 [00:00<?, ?it/s, now=None]"
     ]
    },
    {
     "name": "stdout",
     "output_type": "stream",
     "text": [
      "Moviepy - Building video C:\\Users\\lenovo\\Desktop\\Coding\\An Ayah a Day\\qlipy\\ayah-script/ayah_videos/004159_RB.mp4.\n",
      "MoviePy - Writing audio in 004159_RBTEMP_MPY_wvf_snd.mp4\n"
     ]
    },
    {
     "name": "stderr",
     "output_type": "stream",
     "text": [
      "t:   0%|                                                                            | 0/1166 [00:00<?, ?it/s, now=None]"
     ]
    },
    {
     "name": "stdout",
     "output_type": "stream",
     "text": [
      "MoviePy - Done.\n",
      "Moviepy - Writing video C:\\Users\\lenovo\\Desktop\\Coding\\An Ayah a Day\\qlipy\\ayah-script/ayah_videos/004159_RB.mp4\n",
      "\n"
     ]
    },
    {
     "name": "stderr",
     "output_type": "stream",
     "text": [
      "                                                                                                                       \r"
     ]
    },
    {
     "name": "stdout",
     "output_type": "stream",
     "text": [
      "Moviepy - Done !\n",
      "Moviepy - video ready C:\\Users\\lenovo\\Desktop\\Coding\\An Ayah a Day\\qlipy\\ayah-script/ayah_videos/004159_RB.mp4\n"
     ]
    },
    {
     "name": "stderr",
     "output_type": "stream",
     "text": [
      "\r",
      "chunk:   0%|                                                                        | 0/1652 [00:00<?, ?it/s, now=None]"
     ]
    },
    {
     "name": "stdout",
     "output_type": "stream",
     "text": [
      "Moviepy - Building video C:\\Users\\lenovo\\Desktop\\Coding\\An Ayah a Day\\qlipy\\ayah-script/ayah_videos/004160_RB.mp4.\n",
      "MoviePy - Writing audio in 004160_RBTEMP_MPY_wvf_snd.mp4\n"
     ]
    },
    {
     "name": "stderr",
     "output_type": "stream",
     "text": [
      "t:   0%|                                                                            | 0/1499 [00:00<?, ?it/s, now=None]"
     ]
    },
    {
     "name": "stdout",
     "output_type": "stream",
     "text": [
      "MoviePy - Done.\n",
      "Moviepy - Writing video C:\\Users\\lenovo\\Desktop\\Coding\\An Ayah a Day\\qlipy\\ayah-script/ayah_videos/004160_RB.mp4\n",
      "\n"
     ]
    },
    {
     "name": "stderr",
     "output_type": "stream",
     "text": [
      "                                                                                                                       \r"
     ]
    },
    {
     "name": "stdout",
     "output_type": "stream",
     "text": [
      "Moviepy - Done !\n",
      "Moviepy - video ready C:\\Users\\lenovo\\Desktop\\Coding\\An Ayah a Day\\qlipy\\ayah-script/ayah_videos/004160_RB.mp4\n"
     ]
    },
    {
     "name": "stderr",
     "output_type": "stream",
     "text": [
      "\r",
      "chunk:   0%|                                                                        | 0/1610 [00:00<?, ?it/s, now=None]"
     ]
    },
    {
     "name": "stdout",
     "output_type": "stream",
     "text": [
      "Moviepy - Building video C:\\Users\\lenovo\\Desktop\\Coding\\An Ayah a Day\\qlipy\\ayah-script/ayah_videos/004161_RB.mp4.\n",
      "MoviePy - Writing audio in 004161_RBTEMP_MPY_wvf_snd.mp4\n"
     ]
    },
    {
     "name": "stderr",
     "output_type": "stream",
     "text": [
      "t:   0%|                                                                            | 0/1460 [00:00<?, ?it/s, now=None]"
     ]
    },
    {
     "name": "stdout",
     "output_type": "stream",
     "text": [
      "MoviePy - Done.\n",
      "Moviepy - Writing video C:\\Users\\lenovo\\Desktop\\Coding\\An Ayah a Day\\qlipy\\ayah-script/ayah_videos/004161_RB.mp4\n",
      "\n"
     ]
    },
    {
     "name": "stderr",
     "output_type": "stream",
     "text": [
      "                                                                                                                       \r"
     ]
    },
    {
     "name": "stdout",
     "output_type": "stream",
     "text": [
      "Moviepy - Done !\n",
      "Moviepy - video ready C:\\Users\\lenovo\\Desktop\\Coding\\An Ayah a Day\\qlipy\\ayah-script/ayah_videos/004161_RB.mp4\n"
     ]
    },
    {
     "name": "stderr",
     "output_type": "stream",
     "text": [
      "\r",
      "chunk:   0%|                                                                        | 0/2735 [00:00<?, ?it/s, now=None]"
     ]
    },
    {
     "name": "stdout",
     "output_type": "stream",
     "text": [
      "Moviepy - Building video C:\\Users\\lenovo\\Desktop\\Coding\\An Ayah a Day\\qlipy\\ayah-script/ayah_videos/004162_RB.mp4.\n",
      "MoviePy - Writing audio in 004162_RBTEMP_MPY_wvf_snd.mp4\n"
     ]
    },
    {
     "name": "stderr",
     "output_type": "stream",
     "text": [
      "t:   0%|                                                                            | 0/2481 [00:00<?, ?it/s, now=None]"
     ]
    },
    {
     "name": "stdout",
     "output_type": "stream",
     "text": [
      "MoviePy - Done.\n",
      "Moviepy - Writing video C:\\Users\\lenovo\\Desktop\\Coding\\An Ayah a Day\\qlipy\\ayah-script/ayah_videos/004162_RB.mp4\n",
      "\n"
     ]
    },
    {
     "name": "stderr",
     "output_type": "stream",
     "text": [
      "                                                                                                                       \r"
     ]
    },
    {
     "name": "stdout",
     "output_type": "stream",
     "text": [
      "Moviepy - Done !\n",
      "Moviepy - video ready C:\\Users\\lenovo\\Desktop\\Coding\\An Ayah a Day\\qlipy\\ayah-script/ayah_videos/004162_RB.mp4\n"
     ]
    }
   ],
   "source": [
    "# imports\n",
    "import pathlib\n",
    "\n",
    "from moviepy.editor import *\n",
    "\n",
    "# ------------------------------\n",
    "# directory structure should be:\n",
    "# --- qlipy/\n",
    "# ----- GenerateClip.py\n",
    "# ----- videos/\n",
    "# ----- audios/\n",
    "# ----- images/\n",
    "# ----- mp3/\n",
    "# ----- ayah_videos/\n",
    "# ------------------------------\n",
    "# absolute path of current directory\n",
    "absolutePath = str(pathlib.Path().absolute())\n",
    "videos = []  # clips list\n",
    "FINAL_OUT_VID = \"videos/final.mp4\"  # out video file path\n",
    "AYAH_FILE_NAME = \"\"\n",
    "MP4 = \".mp4\"\n",
    "\n",
    "\n",
    "# Get Dynamic Buffer size based on number of frames\n",
    "def get_buffer_size(nframes, ratio):\n",
    "    return int(nframes * ratio)\n",
    "\n",
    "\n",
    "#  Generate video file from audios and images\n",
    "def generate_video(image_file, audio_file):\n",
    "    global AYAH_FILE_NAME\n",
    "    AYAH_FILE_NAME = (audio_file.split('.'))[0]\n",
    "    AYAH_FILE_NAME = AYAH_FILE_NAME + MP4\n",
    "    # out_video_file = absolutePath + \"/videos/\" + out_file_name + \".mp4\"\n",
    "    # outfile = \"final.mp4\"\n",
    "    image_file = absolutePath + \"/images/\" + image_file\n",
    "    # image_file = \"image.jpeg\"\n",
    "    audio_file = absolutePath + \"/audios/\" + audio_file\n",
    "    # audio_file = \"audio.mpeg\"\n",
    "    AYAH_FILE_NAME = absolutePath + \"/ayah_videos/\" + AYAH_FILE_NAME\n",
    "\n",
    "    # read audio file\n",
    "    audio = AudioFileClip(audio_file, nbytes=2, fps=44100)\n",
    "    # Set Duration of audio to image\n",
    "    image = ImageClip(image_file).set_duration(audio.duration)\n",
    "\n",
    "    # Optional: Write Mp3\n",
    "    # audio.write_audiofile(\"mp3/\" + AYAH_FILE_NAME + \".mp3\",\n",
    "    #                       bitrate=\"192k\",\n",
    "    #                       nbytes=2)\n",
    "\n",
    "    # set audio to image\n",
    "    video = image.set_audio(audio)\n",
    "    # append to list for concatenation\n",
    "    videos.append(video)\n",
    "\n",
    "    # write single ayah video to file\n",
    "    video.write_videofile(AYAH_FILE_NAME,\n",
    "                          fps=20,\n",
    "                          audio_bitrate='192k',\n",
    "                          audio_fps=44100,\n",
    "                          audio_nbytes=2,\n",
    "                          audio_codec=\"aac\")\n",
    "\n",
    "\n",
    "# main run\n",
    "images_list = sorted(os.listdir('images'))\n",
    "audio_list = sorted(os.listdir('audios'))\n",
    "print(\"Total Image Files: \" + str(len(images_list)))\n",
    "print(\"Total Audio Files: \" + str(len(audio_list)))\n",
    "print(images_list)\n",
    "print(audio_list)\n",
    "\n",
    "# generate video from audio and images\n",
    "for i in range(len(audio_list)):\n",
    "    generate_video(images_list[i], audio_list[i])\n",
    "\n",
    "# # concat video list\n",
    "# com_vid = concatenate_videoclips(videos)\n",
    "\n",
    "# # write final video to file\n",
    "# # Note: Buffer size is static.\n",
    "# # 1000 is used to fix audio glitches at the end of the clips.\n",
    "# com_vid.write_videofile(FINAL_OUT_VID,\n",
    "#                         fps=20,\n",
    "#                         audio_bitrate='192k',\n",
    "#                         audio_fps=44100,\n",
    "#                         audio_nbytes=2,\n",
    "#                         audio_codec=\"aac\")\n"
   ]
  },
  {
   "cell_type": "code",
   "execution_count": 2,
   "metadata": {},
   "outputs": [
    {
     "data": {
      "text/plain": [
       "'1.0.3'"
      ]
     },
     "execution_count": 2,
     "metadata": {},
     "output_type": "execute_result"
    }
   ],
   "source": [
    "import moviepy\n",
    "moviepy.__version__"
   ]
  },
  {
   "cell_type": "code",
   "execution_count": 3,
   "metadata": {},
   "outputs": [
    {
     "data": {
      "text/plain": [
       "'1.0.3'"
      ]
     },
     "execution_count": 3,
     "metadata": {},
     "output_type": "execute_result"
    }
   ],
   "source": [
    "import moviepy\n",
    "moviepy.__version__"
   ]
  },
  {
   "cell_type": "code",
   "execution_count": null,
   "metadata": {},
   "outputs": [],
   "source": []
  }
 ],
 "metadata": {
  "kernelspec": {
   "display_name": "Python 3 (ipykernel)",
   "language": "python",
   "name": "python3"
  },
  "language_info": {
   "codemirror_mode": {
    "name": "ipython",
    "version": 3
   },
   "file_extension": ".py",
   "mimetype": "text/x-python",
   "name": "python",
   "nbconvert_exporter": "python",
   "pygments_lexer": "ipython3",
   "version": "3.8.10"
  }
 },
 "nbformat": 4,
 "nbformat_minor": 4
}
